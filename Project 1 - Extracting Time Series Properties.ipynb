{
 "cells": [
  {
   "cell_type": "markdown",
   "metadata": {},
   "source": [
    "# Project 1: Extracting Time Series Properties of Glucose Levels in Artificial Pancreas Purpose"
   ]
  },
  {
   "cell_type": "code",
   "execution_count": 1,
   "metadata": {},
   "outputs": [],
   "source": [
    "import pandas as pd\n",
    "import datetime as dt\n",
    "import time\n",
    "import math"
   ]
  },
  {
   "cell_type": "markdown",
   "metadata": {},
   "source": [
    "### CGM (Continuous Glucose Monitor) and Insulin Datasets"
   ]
  },
  {
   "cell_type": "code",
   "execution_count": 2,
   "metadata": {},
   "outputs": [
    {
     "name": "stderr",
     "output_type": "stream",
     "text": [
      "C:\\Users\\divya\\Anaconda3\\lib\\site-packages\\IPython\\core\\interactiveshell.py:3058: DtypeWarning: Columns (13,43) have mixed types. Specify dtype option on import or set low_memory=False.\n",
      "  interactivity=interactivity, compiler=compiler, result=result)\n"
     ]
    }
   ],
   "source": [
    "insulin_data_set_full = pd.read_csv('InsulinData.csv')"
   ]
  },
  {
   "cell_type": "code",
   "execution_count": 3,
   "metadata": {},
   "outputs": [],
   "source": [
    "insulin_data = insulin_data_set_full[['Date', 'Time', 'Alarm']]"
   ]
  },
  {
   "cell_type": "code",
   "execution_count": 4,
   "metadata": {},
   "outputs": [
    {
     "name": "stderr",
     "output_type": "stream",
     "text": [
      "C:\\Users\\divya\\Anaconda3\\lib\\site-packages\\IPython\\core\\interactiveshell.py:3058: DtypeWarning: Columns (32) have mixed types. Specify dtype option on import or set low_memory=False.\n",
      "  interactivity=interactivity, compiler=compiler, result=result)\n"
     ]
    }
   ],
   "source": [
    "cgm_data_set_full = pd.read_csv('CGMData.csv')"
   ]
  },
  {
   "cell_type": "code",
   "execution_count": 5,
   "metadata": {},
   "outputs": [],
   "source": [
    "cgm_data = cgm_data_set_full[['Date', 'Time', 'Sensor Glucose (mg/dL)']]"
   ]
  },
  {
   "cell_type": "code",
   "execution_count": 6,
   "metadata": {},
   "outputs": [
    {
     "data": {
      "text/html": [
       "<div>\n",
       "<style scoped>\n",
       "    .dataframe tbody tr th:only-of-type {\n",
       "        vertical-align: middle;\n",
       "    }\n",
       "\n",
       "    .dataframe tbody tr th {\n",
       "        vertical-align: top;\n",
       "    }\n",
       "\n",
       "    .dataframe thead th {\n",
       "        text-align: right;\n",
       "    }\n",
       "</style>\n",
       "<table border=\"1\" class=\"dataframe\">\n",
       "  <thead>\n",
       "    <tr style=\"text-align: right;\">\n",
       "      <th></th>\n",
       "      <th>Date</th>\n",
       "      <th>Time</th>\n",
       "      <th>Alarm</th>\n",
       "    </tr>\n",
       "  </thead>\n",
       "  <tbody>\n",
       "    <tr>\n",
       "      <td>0</td>\n",
       "      <td>2/12/2018</td>\n",
       "      <td>13:20:53</td>\n",
       "      <td>NaN</td>\n",
       "    </tr>\n",
       "    <tr>\n",
       "      <td>1</td>\n",
       "      <td>2/12/2018</td>\n",
       "      <td>13:20:48</td>\n",
       "      <td>Other Alarm Code: 112</td>\n",
       "    </tr>\n",
       "    <tr>\n",
       "      <td>2</td>\n",
       "      <td>2/12/2018</td>\n",
       "      <td>13:18:48</td>\n",
       "      <td>NaN</td>\n",
       "    </tr>\n",
       "    <tr>\n",
       "      <td>3</td>\n",
       "      <td>2/12/2018</td>\n",
       "      <td>13:18:48</td>\n",
       "      <td>NaN</td>\n",
       "    </tr>\n",
       "    <tr>\n",
       "      <td>4</td>\n",
       "      <td>2/12/2018</td>\n",
       "      <td>13:12:33</td>\n",
       "      <td>NaN</td>\n",
       "    </tr>\n",
       "    <tr>\n",
       "      <td>...</td>\n",
       "      <td>...</td>\n",
       "      <td>...</td>\n",
       "      <td>...</td>\n",
       "    </tr>\n",
       "    <tr>\n",
       "      <td>41430</td>\n",
       "      <td>7/24/2017</td>\n",
       "      <td>19:00:01</td>\n",
       "      <td>NaN</td>\n",
       "    </tr>\n",
       "    <tr>\n",
       "      <td>41431</td>\n",
       "      <td>7/24/2017</td>\n",
       "      <td>18:59:44</td>\n",
       "      <td>NaN</td>\n",
       "    </tr>\n",
       "    <tr>\n",
       "      <td>41432</td>\n",
       "      <td>7/24/2017</td>\n",
       "      <td>18:59:44</td>\n",
       "      <td>NaN</td>\n",
       "    </tr>\n",
       "    <tr>\n",
       "      <td>41433</td>\n",
       "      <td>7/24/2017</td>\n",
       "      <td>18:59:44</td>\n",
       "      <td>NaN</td>\n",
       "    </tr>\n",
       "    <tr>\n",
       "      <td>41434</td>\n",
       "      <td>7/24/2017</td>\n",
       "      <td>18:59:42</td>\n",
       "      <td>NaN</td>\n",
       "    </tr>\n",
       "  </tbody>\n",
       "</table>\n",
       "<p>41435 rows × 3 columns</p>\n",
       "</div>"
      ],
      "text/plain": [
       "            Date      Time                  Alarm\n",
       "0      2/12/2018  13:20:53                    NaN\n",
       "1      2/12/2018  13:20:48  Other Alarm Code: 112\n",
       "2      2/12/2018  13:18:48                    NaN\n",
       "3      2/12/2018  13:18:48                    NaN\n",
       "4      2/12/2018  13:12:33                    NaN\n",
       "...          ...       ...                    ...\n",
       "41430  7/24/2017  19:00:01                    NaN\n",
       "41431  7/24/2017  18:59:44                    NaN\n",
       "41432  7/24/2017  18:59:44                    NaN\n",
       "41433  7/24/2017  18:59:44                    NaN\n",
       "41434  7/24/2017  18:59:42                    NaN\n",
       "\n",
       "[41435 rows x 3 columns]"
      ]
     },
     "execution_count": 6,
     "metadata": {},
     "output_type": "execute_result"
    }
   ],
   "source": [
    "insulin_data"
   ]
  },
  {
   "cell_type": "code",
   "execution_count": 7,
   "metadata": {},
   "outputs": [
    {
     "data": {
      "text/html": [
       "<div>\n",
       "<style scoped>\n",
       "    .dataframe tbody tr th:only-of-type {\n",
       "        vertical-align: middle;\n",
       "    }\n",
       "\n",
       "    .dataframe tbody tr th {\n",
       "        vertical-align: top;\n",
       "    }\n",
       "\n",
       "    .dataframe thead th {\n",
       "        text-align: right;\n",
       "    }\n",
       "</style>\n",
       "<table border=\"1\" class=\"dataframe\">\n",
       "  <thead>\n",
       "    <tr style=\"text-align: right;\">\n",
       "      <th></th>\n",
       "      <th>Date</th>\n",
       "      <th>Time</th>\n",
       "      <th>Sensor Glucose (mg/dL)</th>\n",
       "    </tr>\n",
       "  </thead>\n",
       "  <tbody>\n",
       "    <tr>\n",
       "      <td>0</td>\n",
       "      <td>2/12/2018</td>\n",
       "      <td>13:22:27</td>\n",
       "      <td>118.0</td>\n",
       "    </tr>\n",
       "    <tr>\n",
       "      <td>1</td>\n",
       "      <td>2/12/2018</td>\n",
       "      <td>13:17:27</td>\n",
       "      <td>122.0</td>\n",
       "    </tr>\n",
       "    <tr>\n",
       "      <td>2</td>\n",
       "      <td>2/12/2018</td>\n",
       "      <td>13:12:27</td>\n",
       "      <td>NaN</td>\n",
       "    </tr>\n",
       "    <tr>\n",
       "      <td>3</td>\n",
       "      <td>2/12/2018</td>\n",
       "      <td>13:07:27</td>\n",
       "      <td>NaN</td>\n",
       "    </tr>\n",
       "    <tr>\n",
       "      <td>4</td>\n",
       "      <td>2/12/2018</td>\n",
       "      <td>13:02:27</td>\n",
       "      <td>NaN</td>\n",
       "    </tr>\n",
       "    <tr>\n",
       "      <td>...</td>\n",
       "      <td>...</td>\n",
       "      <td>...</td>\n",
       "      <td>...</td>\n",
       "    </tr>\n",
       "    <tr>\n",
       "      <td>55338</td>\n",
       "      <td>7/25/2017</td>\n",
       "      <td>12:28:54</td>\n",
       "      <td>311.0</td>\n",
       "    </tr>\n",
       "    <tr>\n",
       "      <td>55339</td>\n",
       "      <td>7/25/2017</td>\n",
       "      <td>12:23:54</td>\n",
       "      <td>311.0</td>\n",
       "    </tr>\n",
       "    <tr>\n",
       "      <td>55340</td>\n",
       "      <td>7/25/2017</td>\n",
       "      <td>12:18:54</td>\n",
       "      <td>309.0</td>\n",
       "    </tr>\n",
       "    <tr>\n",
       "      <td>55341</td>\n",
       "      <td>7/25/2017</td>\n",
       "      <td>12:13:54</td>\n",
       "      <td>310.0</td>\n",
       "    </tr>\n",
       "    <tr>\n",
       "      <td>55342</td>\n",
       "      <td>7/25/2017</td>\n",
       "      <td>12:08:54</td>\n",
       "      <td>314.0</td>\n",
       "    </tr>\n",
       "  </tbody>\n",
       "</table>\n",
       "<p>55343 rows × 3 columns</p>\n",
       "</div>"
      ],
      "text/plain": [
       "            Date      Time  Sensor Glucose (mg/dL)\n",
       "0      2/12/2018  13:22:27                   118.0\n",
       "1      2/12/2018  13:17:27                   122.0\n",
       "2      2/12/2018  13:12:27                     NaN\n",
       "3      2/12/2018  13:07:27                     NaN\n",
       "4      2/12/2018  13:02:27                     NaN\n",
       "...          ...       ...                     ...\n",
       "55338  7/25/2017  12:28:54                   311.0\n",
       "55339  7/25/2017  12:23:54                   311.0\n",
       "55340  7/25/2017  12:18:54                   309.0\n",
       "55341  7/25/2017  12:13:54                   310.0\n",
       "55342  7/25/2017  12:08:54                   314.0\n",
       "\n",
       "[55343 rows x 3 columns]"
      ]
     },
     "execution_count": 7,
     "metadata": {},
     "output_type": "execute_result"
    }
   ],
   "source": [
    "cgm_data"
   ]
  },
  {
   "cell_type": "markdown",
   "metadata": {},
   "source": [
    "### Combining Date and Time as DateTime object"
   ]
  },
  {
   "cell_type": "code",
   "execution_count": 8,
   "metadata": {},
   "outputs": [],
   "source": [
    "#insulin_date_time_series.apply(lambda x: dt.datetime.strptime(x, '%m/%d/%Y %H:%M:%S'))"
   ]
  },
  {
   "cell_type": "code",
   "execution_count": 9,
   "metadata": {},
   "outputs": [
    {
     "name": "stderr",
     "output_type": "stream",
     "text": [
      "C:\\Users\\divya\\Anaconda3\\lib\\site-packages\\ipykernel_launcher.py:1: SettingWithCopyWarning: \n",
      "A value is trying to be set on a copy of a slice from a DataFrame.\n",
      "Try using .loc[row_indexer,col_indexer] = value instead\n",
      "\n",
      "See the caveats in the documentation: http://pandas.pydata.org/pandas-docs/stable/user_guide/indexing.html#returning-a-view-versus-a-copy\n",
      "  \"\"\"Entry point for launching an IPython kernel.\n"
     ]
    }
   ],
   "source": [
    "insulin_data['DateTime'] = pd.to_datetime(insulin_data['Date'] + \" \" + insulin_data['Time'], format = '%m/%d/%Y %H:%M:%S')"
   ]
  },
  {
   "cell_type": "code",
   "execution_count": 10,
   "metadata": {},
   "outputs": [
    {
     "data": {
      "text/html": [
       "<div>\n",
       "<style scoped>\n",
       "    .dataframe tbody tr th:only-of-type {\n",
       "        vertical-align: middle;\n",
       "    }\n",
       "\n",
       "    .dataframe tbody tr th {\n",
       "        vertical-align: top;\n",
       "    }\n",
       "\n",
       "    .dataframe thead th {\n",
       "        text-align: right;\n",
       "    }\n",
       "</style>\n",
       "<table border=\"1\" class=\"dataframe\">\n",
       "  <thead>\n",
       "    <tr style=\"text-align: right;\">\n",
       "      <th></th>\n",
       "      <th>Date</th>\n",
       "      <th>Time</th>\n",
       "      <th>Alarm</th>\n",
       "      <th>DateTime</th>\n",
       "    </tr>\n",
       "  </thead>\n",
       "  <tbody>\n",
       "    <tr>\n",
       "      <td>0</td>\n",
       "      <td>2/12/2018</td>\n",
       "      <td>13:20:53</td>\n",
       "      <td>NaN</td>\n",
       "      <td>2018-02-12 13:20:53</td>\n",
       "    </tr>\n",
       "    <tr>\n",
       "      <td>1</td>\n",
       "      <td>2/12/2018</td>\n",
       "      <td>13:20:48</td>\n",
       "      <td>Other Alarm Code: 112</td>\n",
       "      <td>2018-02-12 13:20:48</td>\n",
       "    </tr>\n",
       "    <tr>\n",
       "      <td>2</td>\n",
       "      <td>2/12/2018</td>\n",
       "      <td>13:18:48</td>\n",
       "      <td>NaN</td>\n",
       "      <td>2018-02-12 13:18:48</td>\n",
       "    </tr>\n",
       "    <tr>\n",
       "      <td>3</td>\n",
       "      <td>2/12/2018</td>\n",
       "      <td>13:18:48</td>\n",
       "      <td>NaN</td>\n",
       "      <td>2018-02-12 13:18:48</td>\n",
       "    </tr>\n",
       "    <tr>\n",
       "      <td>4</td>\n",
       "      <td>2/12/2018</td>\n",
       "      <td>13:12:33</td>\n",
       "      <td>NaN</td>\n",
       "      <td>2018-02-12 13:12:33</td>\n",
       "    </tr>\n",
       "    <tr>\n",
       "      <td>...</td>\n",
       "      <td>...</td>\n",
       "      <td>...</td>\n",
       "      <td>...</td>\n",
       "      <td>...</td>\n",
       "    </tr>\n",
       "    <tr>\n",
       "      <td>41430</td>\n",
       "      <td>7/24/2017</td>\n",
       "      <td>19:00:01</td>\n",
       "      <td>NaN</td>\n",
       "      <td>2017-07-24 19:00:01</td>\n",
       "    </tr>\n",
       "    <tr>\n",
       "      <td>41431</td>\n",
       "      <td>7/24/2017</td>\n",
       "      <td>18:59:44</td>\n",
       "      <td>NaN</td>\n",
       "      <td>2017-07-24 18:59:44</td>\n",
       "    </tr>\n",
       "    <tr>\n",
       "      <td>41432</td>\n",
       "      <td>7/24/2017</td>\n",
       "      <td>18:59:44</td>\n",
       "      <td>NaN</td>\n",
       "      <td>2017-07-24 18:59:44</td>\n",
       "    </tr>\n",
       "    <tr>\n",
       "      <td>41433</td>\n",
       "      <td>7/24/2017</td>\n",
       "      <td>18:59:44</td>\n",
       "      <td>NaN</td>\n",
       "      <td>2017-07-24 18:59:44</td>\n",
       "    </tr>\n",
       "    <tr>\n",
       "      <td>41434</td>\n",
       "      <td>7/24/2017</td>\n",
       "      <td>18:59:42</td>\n",
       "      <td>NaN</td>\n",
       "      <td>2017-07-24 18:59:42</td>\n",
       "    </tr>\n",
       "  </tbody>\n",
       "</table>\n",
       "<p>41435 rows × 4 columns</p>\n",
       "</div>"
      ],
      "text/plain": [
       "            Date      Time                  Alarm            DateTime\n",
       "0      2/12/2018  13:20:53                    NaN 2018-02-12 13:20:53\n",
       "1      2/12/2018  13:20:48  Other Alarm Code: 112 2018-02-12 13:20:48\n",
       "2      2/12/2018  13:18:48                    NaN 2018-02-12 13:18:48\n",
       "3      2/12/2018  13:18:48                    NaN 2018-02-12 13:18:48\n",
       "4      2/12/2018  13:12:33                    NaN 2018-02-12 13:12:33\n",
       "...          ...       ...                    ...                 ...\n",
       "41430  7/24/2017  19:00:01                    NaN 2017-07-24 19:00:01\n",
       "41431  7/24/2017  18:59:44                    NaN 2017-07-24 18:59:44\n",
       "41432  7/24/2017  18:59:44                    NaN 2017-07-24 18:59:44\n",
       "41433  7/24/2017  18:59:44                    NaN 2017-07-24 18:59:44\n",
       "41434  7/24/2017  18:59:42                    NaN 2017-07-24 18:59:42\n",
       "\n",
       "[41435 rows x 4 columns]"
      ]
     },
     "execution_count": 10,
     "metadata": {},
     "output_type": "execute_result"
    }
   ],
   "source": [
    "insulin_data"
   ]
  },
  {
   "cell_type": "code",
   "execution_count": 11,
   "metadata": {},
   "outputs": [
    {
     "name": "stderr",
     "output_type": "stream",
     "text": [
      "C:\\Users\\divya\\Anaconda3\\lib\\site-packages\\ipykernel_launcher.py:1: SettingWithCopyWarning: \n",
      "A value is trying to be set on a copy of a slice from a DataFrame.\n",
      "Try using .loc[row_indexer,col_indexer] = value instead\n",
      "\n",
      "See the caveats in the documentation: http://pandas.pydata.org/pandas-docs/stable/user_guide/indexing.html#returning-a-view-versus-a-copy\n",
      "  \"\"\"Entry point for launching an IPython kernel.\n"
     ]
    }
   ],
   "source": [
    "cgm_data['DateTime'] = pd.to_datetime(cgm_data['Date'] + \" \" + cgm_data['Time'], format = '%m/%d/%Y %H:%M:%S')"
   ]
  },
  {
   "cell_type": "code",
   "execution_count": 12,
   "metadata": {},
   "outputs": [
    {
     "data": {
      "text/html": [
       "<div>\n",
       "<style scoped>\n",
       "    .dataframe tbody tr th:only-of-type {\n",
       "        vertical-align: middle;\n",
       "    }\n",
       "\n",
       "    .dataframe tbody tr th {\n",
       "        vertical-align: top;\n",
       "    }\n",
       "\n",
       "    .dataframe thead th {\n",
       "        text-align: right;\n",
       "    }\n",
       "</style>\n",
       "<table border=\"1\" class=\"dataframe\">\n",
       "  <thead>\n",
       "    <tr style=\"text-align: right;\">\n",
       "      <th></th>\n",
       "      <th>Date</th>\n",
       "      <th>Time</th>\n",
       "      <th>Sensor Glucose (mg/dL)</th>\n",
       "      <th>DateTime</th>\n",
       "    </tr>\n",
       "  </thead>\n",
       "  <tbody>\n",
       "    <tr>\n",
       "      <td>0</td>\n",
       "      <td>2/12/2018</td>\n",
       "      <td>13:22:27</td>\n",
       "      <td>118.0</td>\n",
       "      <td>2018-02-12 13:22:27</td>\n",
       "    </tr>\n",
       "    <tr>\n",
       "      <td>1</td>\n",
       "      <td>2/12/2018</td>\n",
       "      <td>13:17:27</td>\n",
       "      <td>122.0</td>\n",
       "      <td>2018-02-12 13:17:27</td>\n",
       "    </tr>\n",
       "    <tr>\n",
       "      <td>2</td>\n",
       "      <td>2/12/2018</td>\n",
       "      <td>13:12:27</td>\n",
       "      <td>NaN</td>\n",
       "      <td>2018-02-12 13:12:27</td>\n",
       "    </tr>\n",
       "    <tr>\n",
       "      <td>3</td>\n",
       "      <td>2/12/2018</td>\n",
       "      <td>13:07:27</td>\n",
       "      <td>NaN</td>\n",
       "      <td>2018-02-12 13:07:27</td>\n",
       "    </tr>\n",
       "    <tr>\n",
       "      <td>4</td>\n",
       "      <td>2/12/2018</td>\n",
       "      <td>13:02:27</td>\n",
       "      <td>NaN</td>\n",
       "      <td>2018-02-12 13:02:27</td>\n",
       "    </tr>\n",
       "    <tr>\n",
       "      <td>...</td>\n",
       "      <td>...</td>\n",
       "      <td>...</td>\n",
       "      <td>...</td>\n",
       "      <td>...</td>\n",
       "    </tr>\n",
       "    <tr>\n",
       "      <td>55338</td>\n",
       "      <td>7/25/2017</td>\n",
       "      <td>12:28:54</td>\n",
       "      <td>311.0</td>\n",
       "      <td>2017-07-25 12:28:54</td>\n",
       "    </tr>\n",
       "    <tr>\n",
       "      <td>55339</td>\n",
       "      <td>7/25/2017</td>\n",
       "      <td>12:23:54</td>\n",
       "      <td>311.0</td>\n",
       "      <td>2017-07-25 12:23:54</td>\n",
       "    </tr>\n",
       "    <tr>\n",
       "      <td>55340</td>\n",
       "      <td>7/25/2017</td>\n",
       "      <td>12:18:54</td>\n",
       "      <td>309.0</td>\n",
       "      <td>2017-07-25 12:18:54</td>\n",
       "    </tr>\n",
       "    <tr>\n",
       "      <td>55341</td>\n",
       "      <td>7/25/2017</td>\n",
       "      <td>12:13:54</td>\n",
       "      <td>310.0</td>\n",
       "      <td>2017-07-25 12:13:54</td>\n",
       "    </tr>\n",
       "    <tr>\n",
       "      <td>55342</td>\n",
       "      <td>7/25/2017</td>\n",
       "      <td>12:08:54</td>\n",
       "      <td>314.0</td>\n",
       "      <td>2017-07-25 12:08:54</td>\n",
       "    </tr>\n",
       "  </tbody>\n",
       "</table>\n",
       "<p>55343 rows × 4 columns</p>\n",
       "</div>"
      ],
      "text/plain": [
       "            Date      Time  Sensor Glucose (mg/dL)            DateTime\n",
       "0      2/12/2018  13:22:27                   118.0 2018-02-12 13:22:27\n",
       "1      2/12/2018  13:17:27                   122.0 2018-02-12 13:17:27\n",
       "2      2/12/2018  13:12:27                     NaN 2018-02-12 13:12:27\n",
       "3      2/12/2018  13:07:27                     NaN 2018-02-12 13:07:27\n",
       "4      2/12/2018  13:02:27                     NaN 2018-02-12 13:02:27\n",
       "...          ...       ...                     ...                 ...\n",
       "55338  7/25/2017  12:28:54                   311.0 2017-07-25 12:28:54\n",
       "55339  7/25/2017  12:23:54                   311.0 2017-07-25 12:23:54\n",
       "55340  7/25/2017  12:18:54                   309.0 2017-07-25 12:18:54\n",
       "55341  7/25/2017  12:13:54                   310.0 2017-07-25 12:13:54\n",
       "55342  7/25/2017  12:08:54                   314.0 2017-07-25 12:08:54\n",
       "\n",
       "[55343 rows x 4 columns]"
      ]
     },
     "execution_count": 12,
     "metadata": {},
     "output_type": "execute_result"
    }
   ],
   "source": [
    "cgm_data"
   ]
  },
  {
   "cell_type": "markdown",
   "metadata": {},
   "source": [
    "### Finding when the auto mode is turned on based on the earliest 'AUTO MODE ACTIVE PLGM OFF' alarm code"
   ]
  },
  {
   "cell_type": "code",
   "execution_count": 13,
   "metadata": {},
   "outputs": [],
   "source": [
    "auto_mode_start_datetime = insulin_data[insulin_data['Alarm'] == 'AUTO MODE ACTIVE PLGM OFF']['DateTime'].min()"
   ]
  },
  {
   "cell_type": "code",
   "execution_count": 14,
   "metadata": {},
   "outputs": [
    {
     "data": {
      "text/plain": [
       "Timestamp('2017-08-09 08:07:13')"
      ]
     },
     "execution_count": 14,
     "metadata": {},
     "output_type": "execute_result"
    }
   ],
   "source": [
    "auto_mode_start_datetime"
   ]
  },
  {
   "cell_type": "markdown",
   "metadata": {},
   "source": [
    "### Splitting the CGM data based on auto and manual modes"
   ]
  },
  {
   "cell_type": "code",
   "execution_count": 15,
   "metadata": {},
   "outputs": [],
   "source": [
    "cgmAutoDf = cgm_data[cgm_data['DateTime'] >= auto_mode_start_datetime]"
   ]
  },
  {
   "cell_type": "code",
   "execution_count": 16,
   "metadata": {},
   "outputs": [],
   "source": [
    "cgmManualDf = cgm_data[cgm_data['DateTime'] < auto_mode_start_datetime]"
   ]
  },
  {
   "cell_type": "code",
   "execution_count": 17,
   "metadata": {},
   "outputs": [
    {
     "name": "stdout",
     "output_type": "stream",
     "text": [
      "55343\n",
      "51087\n",
      "4256\n"
     ]
    }
   ],
   "source": [
    "print(len(cgm_data))\n",
    "print(len(cgmAutoDf))\n",
    "print(len(cgmManualDf))"
   ]
  },
  {
   "cell_type": "markdown",
   "metadata": {},
   "source": [
    "### Dividing the CGM data into different timeframes - day time and night time"
   ]
  },
  {
   "cell_type": "code",
   "execution_count": 18,
   "metadata": {},
   "outputs": [],
   "source": [
    "cgmAutoDayDf = cgmAutoDf[cgmAutoDf['DateTime'].dt.hour >= 6]"
   ]
  },
  {
   "cell_type": "code",
   "execution_count": 19,
   "metadata": {},
   "outputs": [],
   "source": [
    "cgmAutoNightDf = cgmAutoDf[cgmAutoDf['DateTime'].dt.hour < 6]"
   ]
  },
  {
   "cell_type": "code",
   "execution_count": 20,
   "metadata": {},
   "outputs": [],
   "source": [
    "cgmManualDayDf = cgmManualDf[cgmManualDf['DateTime'].dt.hour >= 6]"
   ]
  },
  {
   "cell_type": "code",
   "execution_count": 21,
   "metadata": {},
   "outputs": [],
   "source": [
    "cgmManualNightDf = cgmManualDf[cgmManualDf['DateTime'].dt.hour < 6]"
   ]
  },
  {
   "cell_type": "code",
   "execution_count": 22,
   "metadata": {},
   "outputs": [
    {
     "name": "stdout",
     "output_type": "stream",
     "text": [
      "38265 12822 3176 1080\n"
     ]
    }
   ],
   "source": [
    "print(len(cgmAutoDayDf), len(cgmAutoNightDf), len(cgmManualDayDf), len(cgmManualNightDf))"
   ]
  },
  {
   "cell_type": "markdown",
   "metadata": {},
   "source": [
    "### Handling NaN values"
   ]
  },
  {
   "cell_type": "markdown",
   "metadata": {},
   "source": [
    "#### Removing the dates for which entries are not more than 70% of the expected count"
   ]
  },
  {
   "cell_type": "code",
   "execution_count": 23,
   "metadata": {},
   "outputs": [],
   "source": [
    "def drop_dates_in_df(df, countCol, threshold = 0, expected_count = 288):\n",
    "    groupedDataCount = df.groupby('Date').count()[countCol]\n",
    "    keys_to_drop = list(groupedDataCount[(groupedDataCount / expected_count) < threshold].keys())\n",
    "    result = df[~df['Date'].isin(keys_to_drop)]\n",
    "    return result"
   ]
  },
  {
   "cell_type": "code",
   "execution_count": 24,
   "metadata": {},
   "outputs": [],
   "source": [
    "threshold = 0 #not removing any data for now"
   ]
  },
  {
   "cell_type": "code",
   "execution_count": 25,
   "metadata": {},
   "outputs": [],
   "source": [
    "#Whole day => 24 hours \n",
    "#Frequency of entries => every 5 minutes\n",
    "#Entry count in 24 hours => Count of 5 minutes in a day => 288"
   ]
  },
  {
   "cell_type": "code",
   "execution_count": 26,
   "metadata": {},
   "outputs": [],
   "source": [
    "autoModeDf = drop_dates_in_df(df = cgmAutoDf, countCol = 'Sensor Glucose (mg/dL)', threshold = threshold, expected_count = 288)"
   ]
  },
  {
   "cell_type": "code",
   "execution_count": 27,
   "metadata": {},
   "outputs": [],
   "source": [
    "manualModeDf = drop_dates_in_df(df = cgmManualDf, countCol = 'Sensor Glucose (mg/dL)', threshold = threshold, expected_count = 288)"
   ]
  },
  {
   "cell_type": "code",
   "execution_count": 28,
   "metadata": {},
   "outputs": [],
   "source": [
    "#Day Time => 6am to 11:59pm (18 hours)\n",
    "#Frequency of entries => every 5 minutes\n",
    "#Entry count per day in day time alone => Count of 5 minutes in 18 hours => 216"
   ]
  },
  {
   "cell_type": "code",
   "execution_count": 29,
   "metadata": {},
   "outputs": [],
   "source": [
    "autoModeDayDf = drop_dates_in_df(df = cgmAutoDayDf, countCol = 'Sensor Glucose (mg/dL)', threshold = threshold, expected_count = 216)"
   ]
  },
  {
   "cell_type": "code",
   "execution_count": 30,
   "metadata": {},
   "outputs": [],
   "source": [
    "manualModeDayDf = drop_dates_in_df(df = cgmManualDayDf, countCol = 'Sensor Glucose (mg/dL)', threshold = threshold, expected_count = 216)"
   ]
  },
  {
   "cell_type": "code",
   "execution_count": 31,
   "metadata": {},
   "outputs": [],
   "source": [
    "#Night Time => 12am to 5:59am (6 hours)\n",
    "#Frequency of entries => every 5 minutes\n",
    "#Entry count per day in night time alone => Count of 5 minutes in 6 hours => 72"
   ]
  },
  {
   "cell_type": "code",
   "execution_count": 32,
   "metadata": {},
   "outputs": [],
   "source": [
    "autoModeNightDf = drop_dates_in_df(df = cgmAutoNightDf, countCol = 'Sensor Glucose (mg/dL)', threshold = threshold, expected_count = 72)"
   ]
  },
  {
   "cell_type": "code",
   "execution_count": 33,
   "metadata": {},
   "outputs": [],
   "source": [
    "manualModeNightDf = drop_dates_in_df(df = cgmManualNightDf, countCol = 'Sensor Glucose (mg/dL)', threshold = threshold, expected_count = 72)"
   ]
  },
  {
   "cell_type": "code",
   "execution_count": 34,
   "metadata": {},
   "outputs": [
    {
     "name": "stdout",
     "output_type": "stream",
     "text": [
      "51087 4256 38265 3176 12822 1080\n"
     ]
    }
   ],
   "source": [
    "print(len(autoModeDf), len(manualModeDf), len(autoModeDayDf), len(manualModeDayDf), len(autoModeNightDf), len(manualModeNightDf))"
   ]
  },
  {
   "cell_type": "markdown",
   "metadata": {},
   "source": [
    "### Interpolation"
   ]
  },
  {
   "cell_type": "code",
   "execution_count": 35,
   "metadata": {},
   "outputs": [
    {
     "data": {
      "text/plain": [
       "'\\nautoModeDf = autoModeDf.interpolate()\\nmanualModeDf = manualModeDf.interpolate()\\nautoModeDayDf = autoModeDayDf.interpolate()\\nmanualModeDayDf = manualModeDayDf.interpolate()\\nautoModeNightDf = autoModeNightDf.interpolate()\\nmanualModeNightDf = manualModeNightDf.interpolate()\\n'"
      ]
     },
     "execution_count": 35,
     "metadata": {},
     "output_type": "execute_result"
    }
   ],
   "source": [
    "\"\"\"\n",
    "autoModeDf = autoModeDf.interpolate()\n",
    "manualModeDf = manualModeDf.interpolate()\n",
    "autoModeDayDf = autoModeDayDf.interpolate()\n",
    "manualModeDayDf = manualModeDayDf.interpolate()\n",
    "autoModeNightDf = autoModeNightDf.interpolate()\n",
    "manualModeNightDf = manualModeNightDf.interpolate()\n",
    "\"\"\""
   ]
  },
  {
   "cell_type": "markdown",
   "metadata": {},
   "source": [
    "### Metrics to be extracted:\n",
    "a) Percentage time in hyperglycemia (CGM > 180 mg/dL),\n",
    "\n",
    "b) percentage of time in hyperglycemia critical (CGM > 250 mg/dL),\n",
    "\n",
    "c) percentage time in range (CGM >= 70 mg/dL and CGM <= 180 mg/dL),\n",
    "\n",
    "d) percentage time in range secondary (CGM >= 70 mg/dL and CGM <= 150 mg/dL),\n",
    "\n",
    "e) percentage time in hypoglycemia level 1 (CGM < 70 mg/dL), and\n",
    "\n",
    "f) percentage time in hypoglycemia level 2 (CGM < 54 mg/dL).\n",
    "\n",
    "Each of the above mentioned metrics are extracted in three different time intervals: daytime (6 am to\n",
    "midnight), overnight (midnight to 6 am) and whole day (12 am to 12 am)."
   ]
  },
  {
   "cell_type": "code",
   "execution_count": null,
   "metadata": {},
   "outputs": [],
   "source": []
  },
  {
   "cell_type": "code",
   "execution_count": 36,
   "metadata": {},
   "outputs": [],
   "source": [
    "#df = autoModeDf\n",
    "#df[(df['Sensor Glucose (mg/dL)'] >= 70) & (df['Sensor Glucose (mg/dL)'] <= 180)]"
   ]
  },
  {
   "cell_type": "code",
   "execution_count": 37,
   "metadata": {},
   "outputs": [
    {
     "data": {
      "text/plain": [
       "'def get_percentage_of_entries_within_range(dataframe, columnName, interval = (None, None)):\\n    df = dataframe\\n    total_entries = len(df)\\n    range_entries = 0\\n    (minRange, maxRange) = interval\\n    if minRange is not None and maxRange is not None:\\n        range_entries = len(df[(df[columnName] >= minRange) & (df[columnName] <= maxRange)])\\n    elif minRange is not None:\\n        range_entries = len(df[df[columnName] > minRange])\\n    elif maxRange is not None:\\n        range_entries = len(df[df[columnName] < maxRange])\\n    return (range_entries/total_entries) * 100\\n    '"
      ]
     },
     "execution_count": 37,
     "metadata": {},
     "output_type": "execute_result"
    }
   ],
   "source": [
    "\"\"\"def get_percentage_of_entries_within_range(dataframe, columnName, interval = (None, None)):\n",
    "    df = dataframe\n",
    "    total_entries = len(df)\n",
    "    range_entries = 0\n",
    "    (minRange, maxRange) = interval\n",
    "    if minRange is not None and maxRange is not None:\n",
    "        range_entries = len(df[(df[columnName] >= minRange) & (df[columnName] <= maxRange)])\n",
    "    elif minRange is not None:\n",
    "        range_entries = len(df[df[columnName] > minRange])\n",
    "    elif maxRange is not None:\n",
    "        range_entries = len(df[df[columnName] < maxRange])\n",
    "    return (range_entries/total_entries) * 100\n",
    "    \"\"\""
   ]
  },
  {
   "cell_type": "code",
   "execution_count": null,
   "metadata": {},
   "outputs": [],
   "source": []
  },
  {
   "cell_type": "code",
   "execution_count": 38,
   "metadata": {},
   "outputs": [],
   "source": [
    "#using count instead of len\n",
    "def get_percentage_of_entries_within_range(dataframe, columnName, interval, expected_count_per_day):\n",
    "    df = dataframe\n",
    "    numDays = len(df['Date'].unique())\n",
    "    outOf = numDays * expected_count_per_day\n",
    "    range_entries = 0\n",
    "    (minRange, maxRange) = interval\n",
    "    if minRange is not None and maxRange is not None:\n",
    "        range_entries = df[(df[columnName] >= minRange) & (df[columnName] <= maxRange)].count()[columnName]\n",
    "    elif minRange is not None:\n",
    "        range_entries = df[df[columnName] > minRange].count()[columnName]\n",
    "    elif maxRange is not None:\n",
    "        range_entries = df[df[columnName] < maxRange].count()[columnName]\n",
    "    return (range_entries / (outOf * 1.0)) * 100"
   ]
  },
  {
   "cell_type": "code",
   "execution_count": null,
   "metadata": {},
   "outputs": [],
   "source": []
  },
  {
   "cell_type": "code",
   "execution_count": 39,
   "metadata": {},
   "outputs": [],
   "source": [
    "\"\"\"columnName = 'Sensor Glucose (mg/dL)'\n",
    "manualModeDfList = [manualModeNightDf, manualModeDayDf, manualModeDf]\n",
    "autoModeDfList = [autoModeNightDf, autoModeDayDf, autoModeDf] \n",
    "intervalList = [(180, None), (250, None), (70, 180), (70, 150), (None, 70), (None, 54)]\n",
    "\n",
    "manualModeEntries = []\n",
    "for df in manualModeDfList:\n",
    "    for interval in intervalList:\n",
    "        manualModeEntries.append(get_percentage_of_entries_within_range(df, columnName, interval))\n",
    "autoModeEntries = []\n",
    "for df in autoModeDfList:\n",
    "    for interval in intervalList:\n",
    "        autoModeEntries.append(get_percentage_of_entries_within_range(df, columnName, interval))\n",
    "manualModeEntries.append(1.1)\n",
    "autoModeEntries.append(1.1)\"\"\"\n",
    "\n",
    "columnName = 'Sensor Glucose (mg/dL)'\n",
    "#manualModeDfList = [(manualModeNightDf, 72), (manualModeDayDf, 216), (manualModeDf, 288)]\n",
    "#autoModeDfList = [(autoModeNightDf, 72), (autoModeDayDf, 216), (autoModeDf, 288)] \n",
    "\n",
    "manualModeDfList = [(manualModeNightDf, 288), (manualModeDayDf, 288), (manualModeDf, 288)]\n",
    "autoModeDfList = [(autoModeNightDf, 288), (autoModeDayDf, 288), (autoModeDf, 288)] \n",
    "\n",
    "intervalList = [(180, None), (250, None), (70, 180), (70, 150), (None, 70), (None, 54)]\n",
    "\n",
    "manualModeEntries = []\n",
    "for df,expected_count_per_day in manualModeDfList:\n",
    "    for interval in intervalList:\n",
    "        manualModeEntries.append(get_percentage_of_entries_within_range(df, columnName, interval, expected_count_per_day))\n",
    "autoModeEntries = []\n",
    "for df,expected_count_per_day in autoModeDfList:\n",
    "    for interval in intervalList:\n",
    "        autoModeEntries.append(get_percentage_of_entries_within_range(df, columnName, interval, expected_count_per_day))\n",
    "manualModeEntries.append(1.1)\n",
    "autoModeEntries.append(1.1)"
   ]
  },
  {
   "cell_type": "code",
   "execution_count": 40,
   "metadata": {},
   "outputs": [],
   "source": [
    "result_df = pd.DataFrame([manualModeEntries, autoModeEntries])"
   ]
  },
  {
   "cell_type": "code",
   "execution_count": 41,
   "metadata": {},
   "outputs": [
    {
     "data": {
      "text/html": [
       "<div>\n",
       "<style scoped>\n",
       "    .dataframe tbody tr th:only-of-type {\n",
       "        vertical-align: middle;\n",
       "    }\n",
       "\n",
       "    .dataframe tbody tr th {\n",
       "        vertical-align: top;\n",
       "    }\n",
       "\n",
       "    .dataframe thead th {\n",
       "        text-align: right;\n",
       "    }\n",
       "</style>\n",
       "<table border=\"1\" class=\"dataframe\">\n",
       "  <thead>\n",
       "    <tr style=\"text-align: right;\">\n",
       "      <th></th>\n",
       "      <th>0</th>\n",
       "      <th>1</th>\n",
       "      <th>2</th>\n",
       "      <th>3</th>\n",
       "      <th>4</th>\n",
       "      <th>5</th>\n",
       "      <th>6</th>\n",
       "      <th>7</th>\n",
       "      <th>8</th>\n",
       "      <th>9</th>\n",
       "      <th>10</th>\n",
       "      <th>11</th>\n",
       "      <th>12</th>\n",
       "      <th>13</th>\n",
       "      <th>14</th>\n",
       "      <th>15</th>\n",
       "      <th>16</th>\n",
       "      <th>17</th>\n",
       "      <th>18</th>\n",
       "    </tr>\n",
       "  </thead>\n",
       "  <tbody>\n",
       "    <tr>\n",
       "      <td>0</td>\n",
       "      <td>4.837963</td>\n",
       "      <td>1.018519</td>\n",
       "      <td>18.240741</td>\n",
       "      <td>13.402778</td>\n",
       "      <td>0.671296</td>\n",
       "      <td>0.000000</td>\n",
       "      <td>22.829861</td>\n",
       "      <td>8.463542</td>\n",
       "      <td>34.830729</td>\n",
       "      <td>27.105035</td>\n",
       "      <td>4.578993</td>\n",
       "      <td>1.801215</td>\n",
       "      <td>27.365451</td>\n",
       "      <td>9.418403</td>\n",
       "      <td>51.931424</td>\n",
       "      <td>39.670139</td>\n",
       "      <td>5.208333</td>\n",
       "      <td>1.801215</td>\n",
       "      <td>1.1</td>\n",
       "    </tr>\n",
       "    <tr>\n",
       "      <td>1</td>\n",
       "      <td>2.600265</td>\n",
       "      <td>0.405743</td>\n",
       "      <td>20.265684</td>\n",
       "      <td>17.681024</td>\n",
       "      <td>0.630072</td>\n",
       "      <td>0.152154</td>\n",
       "      <td>19.535108</td>\n",
       "      <td>4.560185</td>\n",
       "      <td>45.115741</td>\n",
       "      <td>33.800154</td>\n",
       "      <td>3.319830</td>\n",
       "      <td>0.983796</td>\n",
       "      <td>22.106481</td>\n",
       "      <td>4.961420</td>\n",
       "      <td>65.156250</td>\n",
       "      <td>51.284722</td>\n",
       "      <td>3.942901</td>\n",
       "      <td>1.134259</td>\n",
       "      <td>1.1</td>\n",
       "    </tr>\n",
       "  </tbody>\n",
       "</table>\n",
       "</div>"
      ],
      "text/plain": [
       "          0         1          2          3         4         5          6  \\\n",
       "0  4.837963  1.018519  18.240741  13.402778  0.671296  0.000000  22.829861   \n",
       "1  2.600265  0.405743  20.265684  17.681024  0.630072  0.152154  19.535108   \n",
       "\n",
       "          7          8          9        10        11         12        13  \\\n",
       "0  8.463542  34.830729  27.105035  4.578993  1.801215  27.365451  9.418403   \n",
       "1  4.560185  45.115741  33.800154  3.319830  0.983796  22.106481  4.961420   \n",
       "\n",
       "          14         15        16        17   18  \n",
       "0  51.931424  39.670139  5.208333  1.801215  1.1  \n",
       "1  65.156250  51.284722  3.942901  1.134259  1.1  "
      ]
     },
     "execution_count": 41,
     "metadata": {},
     "output_type": "execute_result"
    }
   ],
   "source": [
    "result_df"
   ]
  },
  {
   "cell_type": "code",
   "execution_count": 42,
   "metadata": {},
   "outputs": [],
   "source": [
    "result_df.to_csv('Results.csv', index = False, header = False)"
   ]
  },
  {
   "cell_type": "code",
   "execution_count": null,
   "metadata": {},
   "outputs": [],
   "source": []
  }
 ],
 "metadata": {
  "kernelspec": {
   "display_name": "Python 3",
   "language": "python",
   "name": "python3"
  },
  "language_info": {
   "codemirror_mode": {
    "name": "ipython",
    "version": 3
   },
   "file_extension": ".py",
   "mimetype": "text/x-python",
   "name": "python",
   "nbconvert_exporter": "python",
   "pygments_lexer": "ipython3",
   "version": "3.7.11"
  }
 },
 "nbformat": 4,
 "nbformat_minor": 2
}
